{
  "nbformat": 4,
  "nbformat_minor": 0,
  "metadata": {
    "colab": {
      "provenance": []
    },
    "kernelspec": {
      "name": "python3",
      "display_name": "Python 3"
    },
    "language_info": {
      "name": "python"
    }
  },
  "cells": [
    {
      "cell_type": "code",
      "source": [
        "import requests\n",
        "from bs4 import BeautifulSoup\n",
        "import pandas as pd\n",
        "\n",
        "def fetch_data(url):\n",
        "    headers = {\n",
        "        'User-Agent': 'Mozilla/5.0 (Windows NT 10.0; Win64; x64) AppleWebKit/537.36 (KHTML, like Gecko) Chrome/91.0.4472.124 Safari/537.36'\n",
        "    }\n",
        "    try:\n",
        "        response = requests.get(url, headers=headers)\n",
        "        response.raise_for_status()\n",
        "        return response.text\n",
        "    except requests.RequestException as e:\n",
        "        print(f\"Error fetching data: {e}\")\n",
        "        return None\n",
        "\n",
        "def parse_data(html):\n",
        "    soup = BeautifulSoup(html, 'lxml')\n",
        "    books = soup.find_all('article', class_='product_pod')\n",
        "\n",
        "    titles = []\n",
        "    prices = []\n",
        "    ratings = []\n",
        "\n",
        "    for book in books:\n",
        "        title = book.h3.a['title']\n",
        "        titles.append(title)\n",
        "\n",
        "        price = book.find('p', class_='price_color').text\n",
        "        prices.append(price)\n",
        "\n",
        "        rating = book.p['class'][1]\n",
        "        ratings.append(rating)\n",
        "\n",
        "    return pd.DataFrame({'Title': titles, 'Price': prices, 'Rating': ratings})\n",
        "\n",
        "url = \"http://books.toscrape.com/\"\n",
        "html = fetch_data(url)\n",
        "\n",
        "if html:\n",
        "    df = parse_data(html)\n",
        "    df.to_csv('books_data.csv', index=False, encoding='utf-8')\n",
        "    print(\"Book data extracted and saved to books_data.csv\")\n",
        "    print(df.head())\n",
        "    print(df.info())\n",
        "    print(df.isnull().sum())\n",
        "else:\n",
        "    print(\"Failed to retrieve or parse data.\")\n",
        "\n",
        "from google.colab import files\n",
        "files.download('books_data.csv')\n"
      ],
      "metadata": {
        "colab": {
          "base_uri": "https://localhost:8080/",
          "height": 416
        },
        "id": "94cZ4njs3kC-",
        "outputId": "18da0e6e-d4bd-4026-f5f6-372cc857598b"
      },
      "execution_count": 9,
      "outputs": [
        {
          "output_type": "stream",
          "name": "stdout",
          "text": [
            "Book data extracted and saved to books_data.csv\n",
            "                                   Title    Price Rating\n",
            "0                   A Light in the Attic  Â£51.77  Three\n",
            "1                     Tipping the Velvet  Â£53.74    One\n",
            "2                             Soumission  Â£50.10    One\n",
            "3                          Sharp Objects  Â£47.82   Four\n",
            "4  Sapiens: A Brief History of Humankind  Â£54.23   Five\n",
            "<class 'pandas.core.frame.DataFrame'>\n",
            "RangeIndex: 20 entries, 0 to 19\n",
            "Data columns (total 3 columns):\n",
            " #   Column  Non-Null Count  Dtype \n",
            "---  ------  --------------  ----- \n",
            " 0   Title   20 non-null     object\n",
            " 1   Price   20 non-null     object\n",
            " 2   Rating  20 non-null     object\n",
            "dtypes: object(3)\n",
            "memory usage: 608.0+ bytes\n",
            "None\n",
            "Title     0\n",
            "Price     0\n",
            "Rating    0\n",
            "dtype: int64\n"
          ]
        },
        {
          "output_type": "display_data",
          "data": {
            "text/plain": [
              "<IPython.core.display.Javascript object>"
            ],
            "application/javascript": [
              "\n",
              "    async function download(id, filename, size) {\n",
              "      if (!google.colab.kernel.accessAllowed) {\n",
              "        return;\n",
              "      }\n",
              "      const div = document.createElement('div');\n",
              "      const label = document.createElement('label');\n",
              "      label.textContent = `Downloading \"${filename}\": `;\n",
              "      div.appendChild(label);\n",
              "      const progress = document.createElement('progress');\n",
              "      progress.max = size;\n",
              "      div.appendChild(progress);\n",
              "      document.body.appendChild(div);\n",
              "\n",
              "      const buffers = [];\n",
              "      let downloaded = 0;\n",
              "\n",
              "      const channel = await google.colab.kernel.comms.open(id);\n",
              "      // Send a message to notify the kernel that we're ready.\n",
              "      channel.send({})\n",
              "\n",
              "      for await (const message of channel.messages) {\n",
              "        // Send a message to notify the kernel that we're ready.\n",
              "        channel.send({})\n",
              "        if (message.buffers) {\n",
              "          for (const buffer of message.buffers) {\n",
              "            buffers.push(buffer);\n",
              "            downloaded += buffer.byteLength;\n",
              "            progress.value = downloaded;\n",
              "          }\n",
              "        }\n",
              "      }\n",
              "      const blob = new Blob(buffers, {type: 'application/binary'});\n",
              "      const a = document.createElement('a');\n",
              "      a.href = window.URL.createObjectURL(blob);\n",
              "      a.download = filename;\n",
              "      div.appendChild(a);\n",
              "      a.click();\n",
              "      div.remove();\n",
              "    }\n",
              "  "
            ]
          },
          "metadata": {}
        },
        {
          "output_type": "display_data",
          "data": {
            "text/plain": [
              "<IPython.core.display.Javascript object>"
            ],
            "application/javascript": [
              "download(\"download_bfa806be-a8fb-42f9-b962-30dce52177bf\", \"books_data.csv\", 1046)"
            ]
          },
          "metadata": {}
        }
      ]
    },
    {
      "cell_type": "code",
      "source": [],
      "metadata": {
        "id": "dB598dcr8UT2"
      },
      "execution_count": null,
      "outputs": []
    },
    {
      "cell_type": "markdown",
      "source": [],
      "metadata": {
        "id": "MD-n9NsL5U0C"
      }
    }
  ]
}